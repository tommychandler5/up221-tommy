{
 "cells": [
  {
   "cell_type": "code",
   "execution_count": 1,
   "id": "3d57b222-2337-4f82-a84a-0a28827826c5",
   "metadata": {},
   "outputs": [],
   "source": [
    "## Week 2 Assignment Notebook\n",
    "### Data Set: Solar Panel PV Permits Issues in LA\n",
    "### Data Source: LA Open Source Data Library\n",
    "### From Building Permits Issued"
   ]
  },
  {
   "cell_type": "code",
   "execution_count": 3,
   "id": "a748f120-f803-40dd-ab4a-bd79237dbba8",
   "metadata": {},
   "outputs": [],
   "source": [
    "import pandas as pd\n",
    "import geopandas as gpd"
   ]
  },
  {
   "cell_type": "code",
   "execution_count": 4,
   "id": "82a7af1d-340a-4319-b3fb-9d49291ce008",
   "metadata": {},
   "outputs": [
    {
     "name": "stderr",
     "output_type": "stream",
     "text": [
      "ERROR 1: PROJ: proj_create_from_database: Open of /opt/conda/share/proj failed\n"
     ]
    },
    {
     "ename": "DriverError",
     "evalue": "week02/Solar_PV_Permits_in_LA_Map.csv: No such file or directory",
     "output_type": "error",
     "traceback": [
      "\u001b[0;31m---------------------------------------------------------------------------\u001b[0m",
      "\u001b[0;31mCPLE_OpenFailedError\u001b[0m                      Traceback (most recent call last)",
      "File \u001b[0;32mfiona/_shim.pyx:83\u001b[0m, in \u001b[0;36mfiona._shim.gdal_open_vector\u001b[0;34m()\u001b[0m\n",
      "File \u001b[0;32mfiona/_err.pyx:291\u001b[0m, in \u001b[0;36mfiona._err.exc_wrap_pointer\u001b[0;34m()\u001b[0m\n",
      "\u001b[0;31mCPLE_OpenFailedError\u001b[0m: week02/Solar_PV_Permits_in_LA_Map.csv: No such file or directory",
      "\nDuring handling of the above exception, another exception occurred:\n",
      "\u001b[0;31mDriverError\u001b[0m                               Traceback (most recent call last)",
      "Cell \u001b[0;32mIn[4], line 1\u001b[0m\n\u001b[0;32m----> 1\u001b[0m solar\u001b[38;5;241m=\u001b[39m\u001b[43mgpd\u001b[49m\u001b[38;5;241;43m.\u001b[39;49m\u001b[43mread_file\u001b[49m\u001b[43m(\u001b[49m\u001b[38;5;124;43m'\u001b[39;49m\u001b[38;5;124;43mweek02/Solar_PV_Permits_in_LA_Map.csv\u001b[39;49m\u001b[38;5;124;43m'\u001b[39;49m\u001b[43m)\u001b[49m\n",
      "File \u001b[0;32m/opt/conda/lib/python3.10/site-packages/geopandas/io/file.py:259\u001b[0m, in \u001b[0;36m_read_file\u001b[0;34m(filename, bbox, mask, rows, engine, **kwargs)\u001b[0m\n\u001b[1;32m    256\u001b[0m     path_or_bytes \u001b[38;5;241m=\u001b[39m filename\n\u001b[1;32m    258\u001b[0m \u001b[38;5;28;01mif\u001b[39;00m engine \u001b[38;5;241m==\u001b[39m \u001b[38;5;124m\"\u001b[39m\u001b[38;5;124mfiona\u001b[39m\u001b[38;5;124m\"\u001b[39m:\n\u001b[0;32m--> 259\u001b[0m     \u001b[38;5;28;01mreturn\u001b[39;00m \u001b[43m_read_file_fiona\u001b[49m\u001b[43m(\u001b[49m\n\u001b[1;32m    260\u001b[0m \u001b[43m        \u001b[49m\u001b[43mpath_or_bytes\u001b[49m\u001b[43m,\u001b[49m\u001b[43m \u001b[49m\u001b[43mfrom_bytes\u001b[49m\u001b[43m,\u001b[49m\u001b[43m \u001b[49m\u001b[43mbbox\u001b[49m\u001b[38;5;241;43m=\u001b[39;49m\u001b[43mbbox\u001b[49m\u001b[43m,\u001b[49m\u001b[43m \u001b[49m\u001b[43mmask\u001b[49m\u001b[38;5;241;43m=\u001b[39;49m\u001b[43mmask\u001b[49m\u001b[43m,\u001b[49m\u001b[43m \u001b[49m\u001b[43mrows\u001b[49m\u001b[38;5;241;43m=\u001b[39;49m\u001b[43mrows\u001b[49m\u001b[43m,\u001b[49m\u001b[43m \u001b[49m\u001b[38;5;241;43m*\u001b[39;49m\u001b[38;5;241;43m*\u001b[39;49m\u001b[43mkwargs\u001b[49m\n\u001b[1;32m    261\u001b[0m \u001b[43m    \u001b[49m\u001b[43m)\u001b[49m\n\u001b[1;32m    262\u001b[0m \u001b[38;5;28;01melif\u001b[39;00m engine \u001b[38;5;241m==\u001b[39m \u001b[38;5;124m\"\u001b[39m\u001b[38;5;124mpyogrio\u001b[39m\u001b[38;5;124m\"\u001b[39m:\n\u001b[1;32m    263\u001b[0m     \u001b[38;5;28;01mreturn\u001b[39;00m _read_file_pyogrio(\n\u001b[1;32m    264\u001b[0m         path_or_bytes, bbox\u001b[38;5;241m=\u001b[39mbbox, mask\u001b[38;5;241m=\u001b[39mmask, rows\u001b[38;5;241m=\u001b[39mrows, \u001b[38;5;241m*\u001b[39m\u001b[38;5;241m*\u001b[39mkwargs\n\u001b[1;32m    265\u001b[0m     )\n",
      "File \u001b[0;32m/opt/conda/lib/python3.10/site-packages/geopandas/io/file.py:303\u001b[0m, in \u001b[0;36m_read_file_fiona\u001b[0;34m(path_or_bytes, from_bytes, bbox, mask, rows, where, **kwargs)\u001b[0m\n\u001b[1;32m    300\u001b[0m     reader \u001b[38;5;241m=\u001b[39m fiona\u001b[38;5;241m.\u001b[39mopen\n\u001b[1;32m    302\u001b[0m \u001b[38;5;28;01mwith\u001b[39;00m fiona_env():\n\u001b[0;32m--> 303\u001b[0m     \u001b[38;5;28;01mwith\u001b[39;00m \u001b[43mreader\u001b[49m\u001b[43m(\u001b[49m\u001b[43mpath_or_bytes\u001b[49m\u001b[43m,\u001b[49m\u001b[43m \u001b[49m\u001b[38;5;241;43m*\u001b[39;49m\u001b[38;5;241;43m*\u001b[39;49m\u001b[43mkwargs\u001b[49m\u001b[43m)\u001b[49m \u001b[38;5;28;01mas\u001b[39;00m features:\n\u001b[1;32m    304\u001b[0m         crs \u001b[38;5;241m=\u001b[39m features\u001b[38;5;241m.\u001b[39mcrs_wkt\n\u001b[1;32m    305\u001b[0m         \u001b[38;5;66;03m# attempt to get EPSG code\u001b[39;00m\n",
      "File \u001b[0;32m/opt/conda/lib/python3.10/site-packages/fiona/env.py:408\u001b[0m, in \u001b[0;36mensure_env_with_credentials.<locals>.wrapper\u001b[0;34m(*args, **kwargs)\u001b[0m\n\u001b[1;32m    405\u001b[0m \u001b[38;5;129m@wraps\u001b[39m(f)\n\u001b[1;32m    406\u001b[0m \u001b[38;5;28;01mdef\u001b[39;00m \u001b[38;5;21mwrapper\u001b[39m(\u001b[38;5;241m*\u001b[39margs, \u001b[38;5;241m*\u001b[39m\u001b[38;5;241m*\u001b[39mkwargs):\n\u001b[1;32m    407\u001b[0m     \u001b[38;5;28;01mif\u001b[39;00m local\u001b[38;5;241m.\u001b[39m_env:\n\u001b[0;32m--> 408\u001b[0m         \u001b[38;5;28;01mreturn\u001b[39;00m \u001b[43mf\u001b[49m\u001b[43m(\u001b[49m\u001b[38;5;241;43m*\u001b[39;49m\u001b[43margs\u001b[49m\u001b[43m,\u001b[49m\u001b[43m \u001b[49m\u001b[38;5;241;43m*\u001b[39;49m\u001b[38;5;241;43m*\u001b[39;49m\u001b[43mkwargs\u001b[49m\u001b[43m)\u001b[49m\n\u001b[1;32m    409\u001b[0m     \u001b[38;5;28;01melse\u001b[39;00m:\n\u001b[1;32m    410\u001b[0m         \u001b[38;5;28;01mif\u001b[39;00m \u001b[38;5;28misinstance\u001b[39m(args[\u001b[38;5;241m0\u001b[39m], \u001b[38;5;28mstr\u001b[39m):\n",
      "File \u001b[0;32m/opt/conda/lib/python3.10/site-packages/fiona/__init__.py:264\u001b[0m, in \u001b[0;36mopen\u001b[0;34m(fp, mode, driver, schema, crs, encoding, layer, vfs, enabled_drivers, crs_wkt, **kwargs)\u001b[0m\n\u001b[1;32m    261\u001b[0m     path \u001b[38;5;241m=\u001b[39m parse_path(fp)\n\u001b[1;32m    263\u001b[0m \u001b[38;5;28;01mif\u001b[39;00m mode \u001b[38;5;129;01min\u001b[39;00m (\u001b[38;5;124m'\u001b[39m\u001b[38;5;124ma\u001b[39m\u001b[38;5;124m'\u001b[39m, \u001b[38;5;124m'\u001b[39m\u001b[38;5;124mr\u001b[39m\u001b[38;5;124m'\u001b[39m):\n\u001b[0;32m--> 264\u001b[0m     c \u001b[38;5;241m=\u001b[39m \u001b[43mCollection\u001b[49m\u001b[43m(\u001b[49m\u001b[43mpath\u001b[49m\u001b[43m,\u001b[49m\u001b[43m \u001b[49m\u001b[43mmode\u001b[49m\u001b[43m,\u001b[49m\u001b[43m \u001b[49m\u001b[43mdriver\u001b[49m\u001b[38;5;241;43m=\u001b[39;49m\u001b[43mdriver\u001b[49m\u001b[43m,\u001b[49m\u001b[43m \u001b[49m\u001b[43mencoding\u001b[49m\u001b[38;5;241;43m=\u001b[39;49m\u001b[43mencoding\u001b[49m\u001b[43m,\u001b[49m\n\u001b[1;32m    265\u001b[0m \u001b[43m                   \u001b[49m\u001b[43mlayer\u001b[49m\u001b[38;5;241;43m=\u001b[39;49m\u001b[43mlayer\u001b[49m\u001b[43m,\u001b[49m\u001b[43m \u001b[49m\u001b[43menabled_drivers\u001b[49m\u001b[38;5;241;43m=\u001b[39;49m\u001b[43menabled_drivers\u001b[49m\u001b[43m,\u001b[49m\u001b[43m \u001b[49m\u001b[38;5;241;43m*\u001b[39;49m\u001b[38;5;241;43m*\u001b[39;49m\u001b[43mkwargs\u001b[49m\u001b[43m)\u001b[49m\n\u001b[1;32m    266\u001b[0m \u001b[38;5;28;01melif\u001b[39;00m mode \u001b[38;5;241m==\u001b[39m \u001b[38;5;124m'\u001b[39m\u001b[38;5;124mw\u001b[39m\u001b[38;5;124m'\u001b[39m:\n\u001b[1;32m    267\u001b[0m     \u001b[38;5;28;01mif\u001b[39;00m schema:\n\u001b[1;32m    268\u001b[0m         \u001b[38;5;66;03m# Make an ordered dict of schema properties.\u001b[39;00m\n",
      "File \u001b[0;32m/opt/conda/lib/python3.10/site-packages/fiona/collection.py:162\u001b[0m, in \u001b[0;36mCollection.__init__\u001b[0;34m(self, path, mode, driver, schema, crs, encoding, layer, vsi, archive, enabled_drivers, crs_wkt, ignore_fields, ignore_geometry, **kwargs)\u001b[0m\n\u001b[1;32m    160\u001b[0m \u001b[38;5;28;01mif\u001b[39;00m \u001b[38;5;28mself\u001b[39m\u001b[38;5;241m.\u001b[39mmode \u001b[38;5;241m==\u001b[39m \u001b[38;5;124m'\u001b[39m\u001b[38;5;124mr\u001b[39m\u001b[38;5;124m'\u001b[39m:\n\u001b[1;32m    161\u001b[0m     \u001b[38;5;28mself\u001b[39m\u001b[38;5;241m.\u001b[39msession \u001b[38;5;241m=\u001b[39m Session()\n\u001b[0;32m--> 162\u001b[0m     \u001b[38;5;28;43mself\u001b[39;49m\u001b[38;5;241;43m.\u001b[39;49m\u001b[43msession\u001b[49m\u001b[38;5;241;43m.\u001b[39;49m\u001b[43mstart\u001b[49m\u001b[43m(\u001b[49m\u001b[38;5;28;43mself\u001b[39;49m\u001b[43m,\u001b[49m\u001b[43m \u001b[49m\u001b[38;5;241;43m*\u001b[39;49m\u001b[38;5;241;43m*\u001b[39;49m\u001b[43mkwargs\u001b[49m\u001b[43m)\u001b[49m\n\u001b[1;32m    163\u001b[0m \u001b[38;5;28;01melif\u001b[39;00m \u001b[38;5;28mself\u001b[39m\u001b[38;5;241m.\u001b[39mmode \u001b[38;5;129;01min\u001b[39;00m (\u001b[38;5;124m'\u001b[39m\u001b[38;5;124ma\u001b[39m\u001b[38;5;124m'\u001b[39m, \u001b[38;5;124m'\u001b[39m\u001b[38;5;124mw\u001b[39m\u001b[38;5;124m'\u001b[39m):\n\u001b[1;32m    164\u001b[0m     \u001b[38;5;28mself\u001b[39m\u001b[38;5;241m.\u001b[39msession \u001b[38;5;241m=\u001b[39m WritingSession()\n",
      "File \u001b[0;32mfiona/ogrext.pyx:540\u001b[0m, in \u001b[0;36mfiona.ogrext.Session.start\u001b[0;34m()\u001b[0m\n",
      "File \u001b[0;32mfiona/_shim.pyx:90\u001b[0m, in \u001b[0;36mfiona._shim.gdal_open_vector\u001b[0;34m()\u001b[0m\n",
      "\u001b[0;31mDriverError\u001b[0m: week02/Solar_PV_Permits_in_LA_Map.csv: No such file or directory"
     ]
    }
   ],
   "source": [
    "solar=gpd.read_file('week02/Solar_PV_Permits_in_LA_Map.csv')"
   ]
  },
  {
   "cell_type": "code",
   "execution_count": 5,
   "id": "f609aa3c-ec43-4b7a-b520-9e53ed5a3b1c",
   "metadata": {},
   "outputs": [],
   "source": [
    "solar = gpd.read_file('data/Solar_PV_Permits_in_LA_Map.csv')"
   ]
  },
  {
   "cell_type": "code",
   "execution_count": 6,
   "id": "5d5b3589-d166-4218-9356-f41b6c071011",
   "metadata": {},
   "outputs": [
    {
     "data": {
      "text/plain": [
       "geopandas.geodataframe.GeoDataFrame"
      ]
     },
     "execution_count": 6,
     "metadata": {},
     "output_type": "execute_result"
    }
   ],
   "source": [
    "type(solar)"
   ]
  },
  {
   "cell_type": "code",
   "execution_count": 7,
   "id": "fd755fac-f7ef-49a7-9126-a1e228e6887a",
   "metadata": {},
   "outputs": [
    {
     "data": {
      "text/html": [
       "<div>\n",
       "<style scoped>\n",
       "    .dataframe tbody tr th:only-of-type {\n",
       "        vertical-align: middle;\n",
       "    }\n",
       "\n",
       "    .dataframe tbody tr th {\n",
       "        vertical-align: top;\n",
       "    }\n",
       "\n",
       "    .dataframe thead th {\n",
       "        text-align: right;\n",
       "    }\n",
       "</style>\n",
       "<table border=\"1\" class=\"dataframe\">\n",
       "  <thead>\n",
       "    <tr style=\"text-align: right;\">\n",
       "      <th></th>\n",
       "      <th>Assessor Book</th>\n",
       "      <th>Assessor Page</th>\n",
       "      <th>Assessor Parcel</th>\n",
       "      <th>Tract</th>\n",
       "      <th>Block</th>\n",
       "      <th>Lot</th>\n",
       "      <th>Reference # (Old Permit #)</th>\n",
       "      <th>PCIS Permit #</th>\n",
       "      <th>Status</th>\n",
       "      <th>Status Date</th>\n",
       "      <th>...</th>\n",
       "      <th>Applicant Address 1</th>\n",
       "      <th>Applicant Address 2</th>\n",
       "      <th>Applicant Address 3</th>\n",
       "      <th>Zone</th>\n",
       "      <th>Occupancy</th>\n",
       "      <th>Floor Area-L.A. Building Code Definition</th>\n",
       "      <th>Census Tract</th>\n",
       "      <th>Council District</th>\n",
       "      <th>Latitude/Longitude</th>\n",
       "      <th>geometry</th>\n",
       "    </tr>\n",
       "  </thead>\n",
       "  <tbody>\n",
       "    <tr>\n",
       "      <th>0</th>\n",
       "      <td>6015</td>\n",
       "      <td>009</td>\n",
       "      <td>006</td>\n",
       "      <td>TR 5834</td>\n",
       "      <td></td>\n",
       "      <td>89</td>\n",
       "      <td></td>\n",
       "      <td>21041-10000-26712</td>\n",
       "      <td>Permit Finaled</td>\n",
       "      <td>10/06/2021 12:00:00 AM</td>\n",
       "      <td>...</td>\n",
       "      <td>7706, Trade Street Suite A</td>\n",
       "      <td></td>\n",
       "      <td>San Diego</td>\n",
       "      <td>R1-1</td>\n",
       "      <td></td>\n",
       "      <td>0</td>\n",
       "      <td>2374.02</td>\n",
       "      <td>8</td>\n",
       "      <td>(33.97974, -118.30154)</td>\n",
       "      <td>None</td>\n",
       "    </tr>\n",
       "    <tr>\n",
       "      <th>1</th>\n",
       "      <td>2507</td>\n",
       "      <td>005</td>\n",
       "      <td>037</td>\n",
       "      <td>TR 5909</td>\n",
       "      <td></td>\n",
       "      <td>47</td>\n",
       "      <td></td>\n",
       "      <td>21041-20000-06869</td>\n",
       "      <td>Permit Finaled</td>\n",
       "      <td>10/05/2021 12:00:00 AM</td>\n",
       "      <td>...</td>\n",
       "      <td></td>\n",
       "      <td></td>\n",
       "      <td></td>\n",
       "      <td>R1-1</td>\n",
       "      <td></td>\n",
       "      <td>0</td>\n",
       "      <td>1070.00</td>\n",
       "      <td>7</td>\n",
       "      <td>(34.298, -118.45328)</td>\n",
       "      <td>None</td>\n",
       "    </tr>\n",
       "    <tr>\n",
       "      <th>2</th>\n",
       "      <td>4108</td>\n",
       "      <td>013</td>\n",
       "      <td>010</td>\n",
       "      <td>TR 12719</td>\n",
       "      <td></td>\n",
       "      <td>10</td>\n",
       "      <td></td>\n",
       "      <td>21041-10000-18614</td>\n",
       "      <td>Permit Finaled</td>\n",
       "      <td>10/09/2021 12:00:00 AM</td>\n",
       "      <td>...</td>\n",
       "      <td>4884 w. 145th st</td>\n",
       "      <td></td>\n",
       "      <td>Hawthorne</td>\n",
       "      <td>R1V2</td>\n",
       "      <td></td>\n",
       "      <td>0</td>\n",
       "      <td>2770.00</td>\n",
       "      <td>11</td>\n",
       "      <td>(33.96219, -118.4026)</td>\n",
       "      <td>None</td>\n",
       "    </tr>\n",
       "    <tr>\n",
       "      <th>3</th>\n",
       "      <td>5473</td>\n",
       "      <td>018</td>\n",
       "      <td>016</td>\n",
       "      <td>TR 5943</td>\n",
       "      <td>24</td>\n",
       "      <td>16</td>\n",
       "      <td></td>\n",
       "      <td>21041-10000-32369</td>\n",
       "      <td>Permit Finaled</td>\n",
       "      <td>10/08/2021 12:00:00 AM</td>\n",
       "      <td>...</td>\n",
       "      <td>3564 CENTRAL AVE, SUITE 2B</td>\n",
       "      <td></td>\n",
       "      <td>RIVERSIDE</td>\n",
       "      <td>R1-1</td>\n",
       "      <td></td>\n",
       "      <td>0</td>\n",
       "      <td>1861.00</td>\n",
       "      <td>14</td>\n",
       "      <td>(34.12673, -118.22508)</td>\n",
       "      <td>None</td>\n",
       "    </tr>\n",
       "    <tr>\n",
       "      <th>4</th>\n",
       "      <td>2701</td>\n",
       "      <td>108</td>\n",
       "      <td>016</td>\n",
       "      <td>TR 50505</td>\n",
       "      <td></td>\n",
       "      <td>282</td>\n",
       "      <td></td>\n",
       "      <td>21041-20000-12306</td>\n",
       "      <td>Permit Finaled</td>\n",
       "      <td>10/05/2021 12:00:00 AM</td>\n",
       "      <td>...</td>\n",
       "      <td>12222 SHERMAN WAY</td>\n",
       "      <td></td>\n",
       "      <td>N HOLLYWOOD CA</td>\n",
       "      <td>[T]RE-1</td>\n",
       "      <td></td>\n",
       "      <td>0</td>\n",
       "      <td>1082.02</td>\n",
       "      <td>12</td>\n",
       "      <td>(34.29762, -118.58649)</td>\n",
       "      <td>None</td>\n",
       "    </tr>\n",
       "  </tbody>\n",
       "</table>\n",
       "<p>5 rows × 56 columns</p>\n",
       "</div>"
      ],
      "text/plain": [
       "  Assessor Book Assessor Page Assessor Parcel     Tract Block  Lot  \\\n",
       "0          6015           009             006   TR 5834         89   \n",
       "1          2507           005             037   TR 5909         47   \n",
       "2          4108           013             010  TR 12719         10   \n",
       "3          5473           018             016   TR 5943    24   16   \n",
       "4          2701           108             016  TR 50505        282   \n",
       "\n",
       "  Reference # (Old Permit #)      PCIS Permit #          Status  \\\n",
       "0                             21041-10000-26712  Permit Finaled   \n",
       "1                             21041-20000-06869  Permit Finaled   \n",
       "2                             21041-10000-18614  Permit Finaled   \n",
       "3                             21041-10000-32369  Permit Finaled   \n",
       "4                             21041-20000-12306  Permit Finaled   \n",
       "\n",
       "              Status Date  ...         Applicant Address 1  \\\n",
       "0  10/06/2021 12:00:00 AM  ...  7706, Trade Street Suite A   \n",
       "1  10/05/2021 12:00:00 AM  ...                               \n",
       "2  10/09/2021 12:00:00 AM  ...            4884 w. 145th st   \n",
       "3  10/08/2021 12:00:00 AM  ...  3564 CENTRAL AVE, SUITE 2B   \n",
       "4  10/05/2021 12:00:00 AM  ...           12222 SHERMAN WAY   \n",
       "\n",
       "  Applicant Address 2 Applicant Address 3     Zone Occupancy  \\\n",
       "0                               San Diego     R1-1             \n",
       "1                                             R1-1             \n",
       "2                               Hawthorne     R1V2             \n",
       "3                               RIVERSIDE     R1-1             \n",
       "4                          N HOLLYWOOD CA  [T]RE-1             \n",
       "\n",
       "  Floor Area-L.A. Building Code Definition Census Tract Council District  \\\n",
       "0                                        0      2374.02                8   \n",
       "1                                        0      1070.00                7   \n",
       "2                                        0      2770.00               11   \n",
       "3                                        0      1861.00               14   \n",
       "4                                        0      1082.02               12   \n",
       "\n",
       "       Latitude/Longitude geometry  \n",
       "0  (33.97974, -118.30154)     None  \n",
       "1    (34.298, -118.45328)     None  \n",
       "2   (33.96219, -118.4026)     None  \n",
       "3  (34.12673, -118.22508)     None  \n",
       "4  (34.29762, -118.58649)     None  \n",
       "\n",
       "[5 rows x 56 columns]"
      ]
     },
     "execution_count": 7,
     "metadata": {},
     "output_type": "execute_result"
    }
   ],
   "source": [
    "solar.head(5)"
   ]
  },
  {
   "cell_type": "code",
   "execution_count": 9,
   "id": "25fce821-1fdf-41bf-b94a-0daa1cd2994e",
   "metadata": {},
   "outputs": [
    {
     "data": {
      "text/plain": [
       "Assessor Book                                 object\n",
       "Assessor Page                                 object\n",
       "Assessor Parcel                               object\n",
       "Tract                                         object\n",
       "Block                                         object\n",
       "Lot                                           object\n",
       "Reference # (Old Permit #)                    object\n",
       "PCIS Permit #                                 object\n",
       "Status                                        object\n",
       "Status Date                                   object\n",
       "Permit Type                                   object\n",
       "Permit Sub-Type                               object\n",
       "Permit Category                               object\n",
       "Project Number                                object\n",
       "Event Code                                    object\n",
       "Initiating Office                             object\n",
       "Issue Date                                    object\n",
       "Address Start                                 object\n",
       "Address Fraction Start                        object\n",
       "Address End                                   object\n",
       "Address Fraction End                          object\n",
       "Street Direction                              object\n",
       "Street Name                                   object\n",
       "Street Suffix                                 object\n",
       "Suffix Direction                              object\n",
       "Unit Range Start                              object\n",
       "Unit Range End                                object\n",
       "Zip Code                                      object\n",
       "Work Description                              object\n",
       "Valuation                                     object\n",
       "Floor Area-L.A. Zoning Code Definition        object\n",
       "# of Residential Dwelling Units               object\n",
       "# of Stories                                  object\n",
       "Contractor's Business Name                    object\n",
       "Contractor Address                            object\n",
       "Contractor City                               object\n",
       "Contractor State                              object\n",
       "License Type                                  object\n",
       "License #                                     object\n",
       "Principal First Name                          object\n",
       "Principal Middle Name                         object\n",
       "Principal Last Name                           object\n",
       "License Expiration Date                       object\n",
       "Applicant First Name                          object\n",
       "Applicant Last Name                           object\n",
       "Applicant Business Name                       object\n",
       "Applicant Address 1                           object\n",
       "Applicant Address 2                           object\n",
       "Applicant Address 3                           object\n",
       "Zone                                          object\n",
       "Occupancy                                     object\n",
       "Floor Area-L.A. Building Code Definition      object\n",
       "Census Tract                                  object\n",
       "Council District                              object\n",
       "Latitude/Longitude                            object\n",
       "geometry                                    geometry\n",
       "dtype: object"
      ]
     },
     "execution_count": 9,
     "metadata": {},
     "output_type": "execute_result"
    }
   ],
   "source": [
    "solar.dtypes"
   ]
  },
  {
   "cell_type": "code",
   "execution_count": 10,
   "id": "4f18814f-a0bd-4bc9-8152-309a3a8d2da0",
   "metadata": {},
   "outputs": [
    {
     "data": {
      "text/plain": [
       "(28528, 56)"
      ]
     },
     "execution_count": 10,
     "metadata": {},
     "output_type": "execute_result"
    }
   ],
   "source": [
    "solar.shape"
   ]
  },
  {
   "cell_type": "code",
   "execution_count": 11,
   "id": "97a0f496-4f14-450c-a0e9-34376b336a2b",
   "metadata": {},
   "outputs": [
    {
     "data": {
      "text/plain": [
       "<bound method IndexOpsMixin.tolist of Index(['Assessor Book', 'Assessor Page', 'Assessor Parcel', 'Tract', 'Block',\n",
       "       'Lot', 'Reference # (Old Permit #)', 'PCIS Permit #', 'Status',\n",
       "       'Status Date', 'Permit Type', 'Permit Sub-Type', 'Permit Category',\n",
       "       'Project Number', 'Event Code', 'Initiating Office', 'Issue Date',\n",
       "       'Address Start', 'Address Fraction Start', 'Address End',\n",
       "       'Address Fraction End', 'Street Direction', 'Street Name',\n",
       "       'Street Suffix', 'Suffix Direction', 'Unit Range Start',\n",
       "       'Unit Range End', 'Zip Code', 'Work Description', 'Valuation',\n",
       "       'Floor Area-L.A. Zoning Code Definition',\n",
       "       '# of Residential Dwelling Units', '# of Stories',\n",
       "       'Contractor's Business Name', 'Contractor Address', 'Contractor City',\n",
       "       'Contractor State', 'License Type', 'License #', 'Principal First Name',\n",
       "       'Principal Middle Name', 'Principal Last Name',\n",
       "       'License Expiration Date', 'Applicant First Name',\n",
       "       'Applicant Last Name', 'Applicant Business Name', 'Applicant Address 1',\n",
       "       'Applicant Address 2', 'Applicant Address 3', 'Zone', 'Occupancy',\n",
       "       'Floor Area-L.A. Building Code Definition', 'Census Tract',\n",
       "       'Council District', 'Latitude/Longitude', 'geometry'],\n",
       "      dtype='object')>"
      ]
     },
     "execution_count": 11,
     "metadata": {},
     "output_type": "execute_result"
    }
   ],
   "source": [
    "solar.columns.to_list"
   ]
  },
  {
   "cell_type": "code",
   "execution_count": 14,
   "id": "e52f8c72-df0e-4138-a896-eb8b4ae588df",
   "metadata": {},
   "outputs": [
    {
     "data": {
      "text/plain": [
       "19165    Electrical\n",
       "15517    Electrical\n",
       "20556    Electrical\n",
       "536      Electrical\n",
       "14962    Electrical\n",
       "Name: Permit Type, dtype: object"
      ]
     },
     "execution_count": 14,
     "metadata": {},
     "output_type": "execute_result"
    }
   ],
   "source": [
    "solar['Permit Type'].sample(5)"
   ]
  },
  {
   "cell_type": "code",
   "execution_count": 16,
   "id": "0d88412c-6a3c-41b3-a479-3146ec82e6e8",
   "metadata": {},
   "outputs": [
    {
     "data": {
      "text/plain": [
       "<bound method IndexOpsMixin.value_counts of 0        Electrical\n",
       "1        Electrical\n",
       "2        Electrical\n",
       "3        Electrical\n",
       "4        Electrical\n",
       "            ...    \n",
       "28523    Electrical\n",
       "28524    Electrical\n",
       "28525    Electrical\n",
       "28526    Electrical\n",
       "28527    Electrical\n",
       "Name: Permit Type, Length: 28528, dtype: object>"
      ]
     },
     "execution_count": 16,
     "metadata": {},
     "output_type": "execute_result"
    }
   ],
   "source": [
    "solar['Permit Type'].value_counts"
   ]
  },
  {
   "cell_type": "code",
   "execution_count": 17,
   "id": "a2146a39-d070-4fa1-b2b9-1e9295095467",
   "metadata": {},
   "outputs": [
    {
     "data": {
      "text/plain": [
       "<bound method IndexOpsMixin.value_counts of 0        1 or 2 Family Dwelling\n",
       "1        1 or 2 Family Dwelling\n",
       "2        1 or 2 Family Dwelling\n",
       "3        1 or 2 Family Dwelling\n",
       "4        1 or 2 Family Dwelling\n",
       "                  ...          \n",
       "28523    1 or 2 Family Dwelling\n",
       "28524    1 or 2 Family Dwelling\n",
       "28525    1 or 2 Family Dwelling\n",
       "28526    1 or 2 Family Dwelling\n",
       "28527    1 or 2 Family Dwelling\n",
       "Name: Permit Sub-Type, Length: 28528, dtype: object>"
      ]
     },
     "execution_count": 17,
     "metadata": {},
     "output_type": "execute_result"
    }
   ],
   "source": [
    "solar['Permit Sub-Type'].value_counts"
   ]
  },
  {
   "cell_type": "code",
   "execution_count": 22,
   "id": "9f95145d-7f86-44d6-885f-ff79f6a87710",
   "metadata": {},
   "outputs": [
    {
     "data": {
      "text/plain": [
       "Electrical              27709\n",
       "Bldg-Alter/Repair         456\n",
       "Bldg-New                  210\n",
       "Nonbldg-New                50\n",
       "Plumbing                   22\n",
       "Swimming-Pool/Spa          19\n",
       "Bldg-Addition              18\n",
       "Sign                       16\n",
       "Bldg-Demolition            16\n",
       "Fire Sprinkler              8\n",
       "Nonbldg-Alter/Repair        2\n",
       "Elevator                    1\n",
       "HVAC                        1\n",
       "Name: Permit Type, dtype: int64"
      ]
     },
     "execution_count": 22,
     "metadata": {},
     "output_type": "execute_result"
    }
   ],
   "source": [
    "solar['Permit Type'].value_counts()"
   ]
  },
  {
   "cell_type": "code",
   "execution_count": 23,
   "id": "7fb9b75b-a53c-4d91-83cd-2168f12084b0",
   "metadata": {},
   "outputs": [],
   "source": [
    "permit_count=solar['Permit Type'].value_counts()"
   ]
  },
  {
   "cell_type": "code",
   "execution_count": 24,
   "id": "04c499e0-5abe-46fa-acef-764765656208",
   "metadata": {},
   "outputs": [
    {
     "data": {
      "text/plain": [
       "pandas.core.series.Series"
      ]
     },
     "execution_count": 24,
     "metadata": {},
     "output_type": "execute_result"
    }
   ],
   "source": [
    "type(permit_count)"
   ]
  },
  {
   "cell_type": "code",
   "execution_count": 25,
   "id": "dfe1605c-214f-41fe-8373-9ec8fe56ce8d",
   "metadata": {},
   "outputs": [],
   "source": [
    "permit_count=permit_count.reset_index()"
   ]
  },
  {
   "cell_type": "code",
   "execution_count": 26,
   "id": "549c3681-6b6f-4e76-ae47-1bbb692d025a",
   "metadata": {},
   "outputs": [
    {
     "data": {
      "text/html": [
       "<div>\n",
       "<style scoped>\n",
       "    .dataframe tbody tr th:only-of-type {\n",
       "        vertical-align: middle;\n",
       "    }\n",
       "\n",
       "    .dataframe tbody tr th {\n",
       "        vertical-align: top;\n",
       "    }\n",
       "\n",
       "    .dataframe thead th {\n",
       "        text-align: right;\n",
       "    }\n",
       "</style>\n",
       "<table border=\"1\" class=\"dataframe\">\n",
       "  <thead>\n",
       "    <tr style=\"text-align: right;\">\n",
       "      <th></th>\n",
       "      <th>index</th>\n",
       "      <th>Permit Type</th>\n",
       "    </tr>\n",
       "  </thead>\n",
       "  <tbody>\n",
       "    <tr>\n",
       "      <th>0</th>\n",
       "      <td>Electrical</td>\n",
       "      <td>27709</td>\n",
       "    </tr>\n",
       "    <tr>\n",
       "      <th>1</th>\n",
       "      <td>Bldg-Alter/Repair</td>\n",
       "      <td>456</td>\n",
       "    </tr>\n",
       "    <tr>\n",
       "      <th>2</th>\n",
       "      <td>Bldg-New</td>\n",
       "      <td>210</td>\n",
       "    </tr>\n",
       "    <tr>\n",
       "      <th>3</th>\n",
       "      <td>Nonbldg-New</td>\n",
       "      <td>50</td>\n",
       "    </tr>\n",
       "    <tr>\n",
       "      <th>4</th>\n",
       "      <td>Plumbing</td>\n",
       "      <td>22</td>\n",
       "    </tr>\n",
       "    <tr>\n",
       "      <th>5</th>\n",
       "      <td>Swimming-Pool/Spa</td>\n",
       "      <td>19</td>\n",
       "    </tr>\n",
       "    <tr>\n",
       "      <th>6</th>\n",
       "      <td>Bldg-Addition</td>\n",
       "      <td>18</td>\n",
       "    </tr>\n",
       "    <tr>\n",
       "      <th>7</th>\n",
       "      <td>Sign</td>\n",
       "      <td>16</td>\n",
       "    </tr>\n",
       "    <tr>\n",
       "      <th>8</th>\n",
       "      <td>Bldg-Demolition</td>\n",
       "      <td>16</td>\n",
       "    </tr>\n",
       "    <tr>\n",
       "      <th>9</th>\n",
       "      <td>Fire Sprinkler</td>\n",
       "      <td>8</td>\n",
       "    </tr>\n",
       "    <tr>\n",
       "      <th>10</th>\n",
       "      <td>Nonbldg-Alter/Repair</td>\n",
       "      <td>2</td>\n",
       "    </tr>\n",
       "    <tr>\n",
       "      <th>11</th>\n",
       "      <td>Elevator</td>\n",
       "      <td>1</td>\n",
       "    </tr>\n",
       "    <tr>\n",
       "      <th>12</th>\n",
       "      <td>HVAC</td>\n",
       "      <td>1</td>\n",
       "    </tr>\n",
       "  </tbody>\n",
       "</table>\n",
       "</div>"
      ],
      "text/plain": [
       "                   index  Permit Type\n",
       "0             Electrical        27709\n",
       "1      Bldg-Alter/Repair          456\n",
       "2               Bldg-New          210\n",
       "3            Nonbldg-New           50\n",
       "4               Plumbing           22\n",
       "5      Swimming-Pool/Spa           19\n",
       "6          Bldg-Addition           18\n",
       "7                   Sign           16\n",
       "8        Bldg-Demolition           16\n",
       "9         Fire Sprinkler            8\n",
       "10  Nonbldg-Alter/Repair            2\n",
       "11              Elevator            1\n",
       "12                  HVAC            1"
      ]
     },
     "execution_count": 26,
     "metadata": {},
     "output_type": "execute_result"
    }
   ],
   "source": [
    "permit_count"
   ]
  },
  {
   "cell_type": "code",
   "execution_count": 27,
   "id": "6697744b-171e-40a2-b6ff-2c7a0d539cef",
   "metadata": {},
   "outputs": [
    {
     "data": {
      "text/plain": [
       "pandas.core.frame.DataFrame"
      ]
     },
     "execution_count": 27,
     "metadata": {},
     "output_type": "execute_result"
    }
   ],
   "source": [
    "type(permit_count)"
   ]
  },
  {
   "cell_type": "code",
   "execution_count": 29,
   "id": "1e0132d3-621e-48c7-98af-e18f5fb39249",
   "metadata": {},
   "outputs": [
    {
     "data": {
      "text/plain": [
       "['index', 'Permit Type']"
      ]
     },
     "execution_count": 29,
     "metadata": {},
     "output_type": "execute_result"
    }
   ],
   "source": [
    "permit_count.columns.to_list()"
   ]
  },
  {
   "cell_type": "code",
   "execution_count": null,
   "id": "02acd636-6e0e-41f1-8c33-7ebf14037e15",
   "metadata": {},
   "outputs": [],
   "source": []
  }
 ],
 "metadata": {
  "kernelspec": {
   "display_name": "Python 3 (ipykernel)",
   "language": "python",
   "name": "python3"
  },
  "language_info": {
   "codemirror_mode": {
    "name": "ipython",
    "version": 3
   },
   "file_extension": ".py",
   "mimetype": "text/x-python",
   "name": "python",
   "nbconvert_exporter": "python",
   "pygments_lexer": "ipython3",
   "version": "3.10.8"
  }
 },
 "nbformat": 4,
 "nbformat_minor": 5
}
